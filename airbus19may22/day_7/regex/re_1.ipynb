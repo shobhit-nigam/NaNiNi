{
 "cells": [
  {
   "cell_type": "code",
   "execution_count": 1,
   "id": "880d33db",
   "metadata": {},
   "outputs": [],
   "source": [
    "import re"
   ]
  },
  {
   "cell_type": "code",
   "execution_count": 4,
   "id": "3b7fcba4",
   "metadata": {},
   "outputs": [
    {
     "name": "stdout",
     "output_type": "stream",
     "text": [
      "you are in hell\n",
      "not found\n"
     ]
    }
   ],
   "source": [
    "stat = input()\n",
    "\n",
    "pat = \"hell\"\n",
    "\n",
    "ret = re.match(pat, stat)\n",
    "\n",
    "if ret:\n",
    "    print(\"found\")\n",
    "else:\n",
    "    print(\"not found\")"
   ]
  },
  {
   "cell_type": "code",
   "execution_count": 5,
   "id": "d0e303ca",
   "metadata": {},
   "outputs": [
    {
     "name": "stdout",
     "output_type": "stream",
     "text": [
      "hello 23 hi45 how are you 568, great 2\n",
      "['23', '45', '568', '2']\n"
     ]
    }
   ],
   "source": [
    "stat = input()\n",
    "\n",
    "pat = \"[0-9]+\"\n",
    "\n",
    "ret = re.findall(pat, stat)\n",
    "print(ret)"
   ]
  },
  {
   "cell_type": "code",
   "execution_count": 8,
   "id": "58ebe3af",
   "metadata": {},
   "outputs": [
    {
     "name": "stdout",
     "output_type": "stream",
     "text": [
      "hi hello\n",
      "not found\n"
     ]
    }
   ],
   "source": [
    "stat = input()\n",
    "\n",
    "pat = \"[0-9]+\"\n",
    "\n",
    "ret = re.findall(pat, stat)\n",
    "if ret:\n",
    "    print(\"found =\", ret)\n",
    "else:\n",
    "    print(\"not found\")"
   ]
  },
  {
   "cell_type": "code",
   "execution_count": 9,
   "id": "648676a0",
   "metadata": {},
   "outputs": [
    {
     "name": "stdout",
     "output_type": "stream",
     "text": [
      "hello 23 hi 44\n",
      "found = ['23', '44']\n"
     ]
    }
   ],
   "source": [
    "stat = input()\n",
    "\n",
    "pat = \"\\d+\"\n",
    "\n",
    "ret = re.findall(pat, stat)\n",
    "if ret:\n",
    "    print(\"found =\", ret)\n",
    "else:\n",
    "    print(\"not found\")"
   ]
  },
  {
   "cell_type": "code",
   "execution_count": 12,
   "id": "54752106",
   "metadata": {},
   "outputs": [
    {
     "data": {
      "text/plain": [
       "['ironman:suit', 'captain:shield', 'hawkey:arrow', 'thor:hammer']"
      ]
     },
     "execution_count": 12,
     "metadata": {},
     "output_type": "execute_result"
    }
   ],
   "source": [
    "stat = \"ironman:suit-captain:shield-hawkey:arrow-thor:hammer\"\n",
    "\n",
    "ret = stat.split(\"-\")\n",
    "ret"
   ]
  },
  {
   "cell_type": "code",
   "execution_count": 11,
   "id": "d172f521",
   "metadata": {},
   "outputs": [
    {
     "data": {
      "text/plain": [
       "['ironman:suit', 'captain:shield', 'hawkey:arrow', 'thor:hammer']"
      ]
     },
     "execution_count": 11,
     "metadata": {},
     "output_type": "execute_result"
    }
   ],
   "source": [
    "stat = \"ironman:suit-captain:shield-hawkey:arrow-thor:hammer\"\n",
    "\n",
    "pat = \"-\"\n",
    "\n",
    "ret = re.split(pat, stat)\n",
    "ret"
   ]
  },
  {
   "cell_type": "code",
   "execution_count": 14,
   "id": "bde9eede",
   "metadata": {},
   "outputs": [
    {
     "data": {
      "text/plain": [
       "['xx', 'yyhji66dftyh7njtd88swqd7mnft10fgts']"
      ]
     },
     "execution_count": 14,
     "metadata": {},
     "output_type": "execute_result"
    }
   ],
   "source": [
    "stat = \"xx23yyhji66dftyh7njtd88swqd7mnft10fgts\"\n",
    "\n",
    "ret = stat.split(\"23\")\n",
    "ret"
   ]
  },
  {
   "cell_type": "code",
   "execution_count": 15,
   "id": "4dfb6d03",
   "metadata": {},
   "outputs": [
    {
     "data": {
      "text/plain": [
       "['xx', 'yyhji', 'dftyh', 'njtd', 'swqd', 'mnft', 'fgts']"
      ]
     },
     "execution_count": 15,
     "metadata": {},
     "output_type": "execute_result"
    }
   ],
   "source": [
    "stat = \"xx23yyhji66dftyh7njtd88swqd7mnft10fgts\"\n",
    "\n",
    "pat = \"\\d+\"\n",
    "\n",
    "ret = re.split(pat, stat)\n",
    "ret"
   ]
  },
  {
   "cell_type": "code",
   "execution_count": 16,
   "id": "4b75bfb2",
   "metadata": {},
   "outputs": [
    {
     "data": {
      "text/plain": [
       "['xx', 'yyhji', 'dftyh7njtd88swqd7mnft10fgts']"
      ]
     },
     "execution_count": 16,
     "metadata": {},
     "output_type": "execute_result"
    }
   ],
   "source": [
    "stat = \"xx23yyhji66dftyh7njtd898swqd7mnft10fgts\"\n",
    "\n",
    "pat = \"\\d+\"\n",
    "\n",
    "ret = re.split(pat, stat, 2)\n",
    "ret"
   ]
  },
  {
   "cell_type": "code",
   "execution_count": 17,
   "id": "1715fdb1",
   "metadata": {},
   "outputs": [
    {
     "data": {
      "text/plain": [
       "['xx23yyhji66dftyh7njtd', 'swqd7mnft10fgts']"
      ]
     },
     "execution_count": 17,
     "metadata": {},
     "output_type": "execute_result"
    }
   ],
   "source": [
    "stat = \"xx23yyhji66dftyh7njtd898swqd7mnft10fgts\"\n",
    "\n",
    "pat = \"\\d{3}\"\n",
    "\n",
    "ret = re.split(pat, stat, 2)\n",
    "ret"
   ]
  },
  {
   "cell_type": "code",
   "execution_count": 19,
   "id": "1ec2113d",
   "metadata": {},
   "outputs": [
    {
     "data": {
      "text/plain": [
       "'xx__yyhji__dftyh__njtd__swqd__mnft__fgts'"
      ]
     },
     "execution_count": 19,
     "metadata": {},
     "output_type": "execute_result"
    }
   ],
   "source": [
    "stat = \"xx23yyhji66dftyh7njtd898swqd7mnft10fgts\"\n",
    "\n",
    "pat = \"\\d+\"\n",
    "rep = \"__\"\n",
    "\n",
    "ret = re.sub(pat, rep, stat)\n",
    "ret"
   ]
  },
  {
   "cell_type": "code",
   "execution_count": 20,
   "id": "8712fce6",
   "metadata": {},
   "outputs": [
    {
     "data": {
      "text/plain": [
       "'xx__yyhji__dftyh7njtd898swqd7mnft10fgts'"
      ]
     },
     "execution_count": 20,
     "metadata": {},
     "output_type": "execute_result"
    }
   ],
   "source": [
    "stat = \"xx23yyhji66dftyh7njtd898swqd7mnft10fgts\"\n",
    "\n",
    "pat = \"\\d+\"\n",
    "rep = \"__\"\n",
    "\n",
    "ret = re.sub(pat, rep, stat, 2)\n",
    "ret"
   ]
  },
  {
   "cell_type": "code",
   "execution_count": 21,
   "id": "7167d7e1",
   "metadata": {},
   "outputs": [
    {
     "data": {
      "text/plain": [
       "('xx__yyhji__dftyh__njtd__swqd__mnft__fgts', 6)"
      ]
     },
     "execution_count": 21,
     "metadata": {},
     "output_type": "execute_result"
    }
   ],
   "source": [
    "stat = \"xx23yyhji66dftyh7njtd898swqd7mnft10fgts\"\n",
    "\n",
    "pat = \"\\d+\"\n",
    "rep = \"__\"\n",
    "\n",
    "ret = re.subn(pat, rep, stat)\n",
    "ret"
   ]
  },
  {
   "cell_type": "code",
   "execution_count": 29,
   "id": "fa808eab",
   "metadata": {},
   "outputs": [
    {
     "data": {
      "text/plain": [
       "['hell', 'HELL', 'hell', 'HELL']"
      ]
     },
     "execution_count": 29,
     "metadata": {},
     "output_type": "execute_result"
    }
   ],
   "source": [
    "stat = \"helloHELLOhellHELL\"\n",
    "\n",
    "pat = \"hell|HELL\"\n",
    "\n",
    "ret = re.findall(pat, stat)\n",
    "ret"
   ]
  },
  {
   "cell_type": "code",
   "execution_count": 26,
   "id": "024a8c10",
   "metadata": {},
   "outputs": [
    {
     "data": {
      "text/plain": [
       "['hell', 'hell']"
      ]
     },
     "execution_count": 26,
     "metadata": {},
     "output_type": "execute_result"
    }
   ],
   "source": [
    "stat = \"helloHELLOhellHELL\"\n",
    "\n",
    "pat = \"hell\"\n",
    "\n",
    "ret = re.findall(pat, stat)\n",
    "ret"
   ]
  },
  {
   "cell_type": "code",
   "execution_count": 28,
   "id": "676a0d2c",
   "metadata": {},
   "outputs": [
    {
     "data": {
      "text/plain": [
       "['hell', 'HELL', 'hell', 'HELL']"
      ]
     },
     "execution_count": 28,
     "metadata": {},
     "output_type": "execute_result"
    }
   ],
   "source": [
    "stat = \"helloHELLOhellHELL\"\n",
    "\n",
    "pat = \"hell\"\n",
    "\n",
    "ret = re.findall(pat, stat, re.IGNORECASE)\n",
    "ret"
   ]
  },
  {
   "cell_type": "code",
   "execution_count": null,
   "id": "43cf2b0f",
   "metadata": {},
   "outputs": [],
   "source": []
  }
 ],
 "metadata": {
  "kernelspec": {
   "display_name": "Python 3 (ipykernel)",
   "language": "python",
   "name": "python3"
  },
  "language_info": {
   "codemirror_mode": {
    "name": "ipython",
    "version": 3
   },
   "file_extension": ".py",
   "mimetype": "text/x-python",
   "name": "python",
   "nbconvert_exporter": "python",
   "pygments_lexer": "ipython3",
   "version": "3.9.7"
  }
 },
 "nbformat": 4,
 "nbformat_minor": 5
}

{
 "cells": [
  {
   "cell_type": "code",
   "execution_count": 1,
   "id": "52043533",
   "metadata": {},
   "outputs": [],
   "source": [
    "import pandas as pd\n",
    "import numpy as np"
   ]
  },
  {
   "cell_type": "code",
   "execution_count": 3,
   "id": "f45a4448",
   "metadata": {},
   "outputs": [],
   "source": [
    "dfa = pd.read_csv(\"data.csv\")"
   ]
  },
  {
   "cell_type": "code",
   "execution_count": 4,
   "id": "5ec931ec",
   "metadata": {},
   "outputs": [
    {
     "data": {
      "text/html": [
       "<div>\n",
       "<style scoped>\n",
       "    .dataframe tbody tr th:only-of-type {\n",
       "        vertical-align: middle;\n",
       "    }\n",
       "\n",
       "    .dataframe tbody tr th {\n",
       "        vertical-align: top;\n",
       "    }\n",
       "\n",
       "    .dataframe thead th {\n",
       "        text-align: right;\n",
       "    }\n",
       "</style>\n",
       "<table border=\"1\" class=\"dataframe\">\n",
       "  <thead>\n",
       "    <tr style=\"text-align: right;\">\n",
       "      <th></th>\n",
       "      <th>col_a</th>\n",
       "      <th>col_b</th>\n",
       "      <th>col_c</th>\n",
       "      <th>col_d</th>\n",
       "    </tr>\n",
       "  </thead>\n",
       "  <tbody>\n",
       "    <tr>\n",
       "      <th>0</th>\n",
       "      <td>ggg</td>\n",
       "      <td>234</td>\n",
       "      <td>yes</td>\n",
       "      <td>20</td>\n",
       "    </tr>\n",
       "    <tr>\n",
       "      <th>1</th>\n",
       "      <td>juk</td>\n",
       "      <td>402</td>\n",
       "      <td>no</td>\n",
       "      <td>30</td>\n",
       "    </tr>\n",
       "    <tr>\n",
       "      <th>2</th>\n",
       "      <td>fgt</td>\n",
       "      <td>206</td>\n",
       "      <td>n</td>\n",
       "      <td>78</td>\n",
       "    </tr>\n",
       "    <tr>\n",
       "      <th>3</th>\n",
       "      <td>fas</td>\n",
       "      <td>290</td>\n",
       "      <td>y</td>\n",
       "      <td>209</td>\n",
       "    </tr>\n",
       "    <tr>\n",
       "      <th>4</th>\n",
       "      <td>dst</td>\n",
       "      <td>680</td>\n",
       "      <td>Y</td>\n",
       "      <td>823</td>\n",
       "    </tr>\n",
       "  </tbody>\n",
       "</table>\n",
       "</div>"
      ],
      "text/plain": [
       "  col_a  col_b col_c  col_d\n",
       "0   ggg    234   yes     20\n",
       "1   juk    402    no     30\n",
       "2   fgt    206     n     78\n",
       "3   fas    290     y    209\n",
       "4   dst    680     Y    823"
      ]
     },
     "execution_count": 4,
     "metadata": {},
     "output_type": "execute_result"
    }
   ],
   "source": [
    "dfa"
   ]
  },
  {
   "cell_type": "code",
   "execution_count": 5,
   "id": "84404d4e",
   "metadata": {},
   "outputs": [
    {
     "data": {
      "text/html": [
       "<div>\n",
       "<style scoped>\n",
       "    .dataframe tbody tr th:only-of-type {\n",
       "        vertical-align: middle;\n",
       "    }\n",
       "\n",
       "    .dataframe tbody tr th {\n",
       "        vertical-align: top;\n",
       "    }\n",
       "\n",
       "    .dataframe thead th {\n",
       "        text-align: right;\n",
       "    }\n",
       "</style>\n",
       "<table border=\"1\" class=\"dataframe\">\n",
       "  <thead>\n",
       "    <tr style=\"text-align: right;\">\n",
       "      <th></th>\n",
       "      <th>col_a</th>\n",
       "      <th>col_b</th>\n",
       "      <th>col_c</th>\n",
       "      <th>col_d</th>\n",
       "    </tr>\n",
       "  </thead>\n",
       "  <tbody>\n",
       "    <tr>\n",
       "      <th>0</th>\n",
       "      <td>ggg</td>\n",
       "      <td>234</td>\n",
       "      <td>yes</td>\n",
       "      <td>20</td>\n",
       "    </tr>\n",
       "    <tr>\n",
       "      <th>1</th>\n",
       "      <td>juk</td>\n",
       "      <td>402</td>\n",
       "      <td>no</td>\n",
       "      <td>30</td>\n",
       "    </tr>\n",
       "    <tr>\n",
       "      <th>2</th>\n",
       "      <td>fgt</td>\n",
       "      <td>206</td>\n",
       "      <td>n</td>\n",
       "      <td>78</td>\n",
       "    </tr>\n",
       "    <tr>\n",
       "      <th>3</th>\n",
       "      <td>fas</td>\n",
       "      <td>290</td>\n",
       "      <td>y</td>\n",
       "      <td>209</td>\n",
       "    </tr>\n",
       "    <tr>\n",
       "      <th>4</th>\n",
       "      <td>dst</td>\n",
       "      <td>680</td>\n",
       "      <td>y</td>\n",
       "      <td>823</td>\n",
       "    </tr>\n",
       "  </tbody>\n",
       "</table>\n",
       "</div>"
      ],
      "text/plain": [
       "  col_a  col_b col_c  col_d\n",
       "0   ggg    234   yes     20\n",
       "1   juk    402    no     30\n",
       "2   fgt    206     n     78\n",
       "3   fas    290     y    209\n",
       "4   dst    680     y    823"
      ]
     },
     "execution_count": 5,
     "metadata": {},
     "output_type": "execute_result"
    }
   ],
   "source": [
    "dfa.replace(\"Y\", \"y\")"
   ]
  },
  {
   "cell_type": "code",
   "execution_count": 6,
   "id": "cb5f6454",
   "metadata": {},
   "outputs": [
    {
     "data": {
      "text/html": [
       "<div>\n",
       "<style scoped>\n",
       "    .dataframe tbody tr th:only-of-type {\n",
       "        vertical-align: middle;\n",
       "    }\n",
       "\n",
       "    .dataframe tbody tr th {\n",
       "        vertical-align: top;\n",
       "    }\n",
       "\n",
       "    .dataframe thead th {\n",
       "        text-align: right;\n",
       "    }\n",
       "</style>\n",
       "<table border=\"1\" class=\"dataframe\">\n",
       "  <thead>\n",
       "    <tr style=\"text-align: right;\">\n",
       "      <th></th>\n",
       "      <th>col_a</th>\n",
       "      <th>col_b</th>\n",
       "      <th>col_c</th>\n",
       "      <th>col_d</th>\n",
       "    </tr>\n",
       "  </thead>\n",
       "  <tbody>\n",
       "    <tr>\n",
       "      <th>0</th>\n",
       "      <td>ggg</td>\n",
       "      <td>234</td>\n",
       "      <td>yes</td>\n",
       "      <td>20</td>\n",
       "    </tr>\n",
       "    <tr>\n",
       "      <th>1</th>\n",
       "      <td>juk</td>\n",
       "      <td>402</td>\n",
       "      <td>no</td>\n",
       "      <td>30</td>\n",
       "    </tr>\n",
       "    <tr>\n",
       "      <th>2</th>\n",
       "      <td>fgt</td>\n",
       "      <td>206</td>\n",
       "      <td>n</td>\n",
       "      <td>78</td>\n",
       "    </tr>\n",
       "    <tr>\n",
       "      <th>3</th>\n",
       "      <td>fas</td>\n",
       "      <td>290</td>\n",
       "      <td>y</td>\n",
       "      <td>209</td>\n",
       "    </tr>\n",
       "    <tr>\n",
       "      <th>4</th>\n",
       "      <td>dst</td>\n",
       "      <td>680</td>\n",
       "      <td>Y</td>\n",
       "      <td>823</td>\n",
       "    </tr>\n",
       "  </tbody>\n",
       "</table>\n",
       "</div>"
      ],
      "text/plain": [
       "  col_a  col_b col_c  col_d\n",
       "0   ggg    234   yes     20\n",
       "1   juk    402    no     30\n",
       "2   fgt    206     n     78\n",
       "3   fas    290     y    209\n",
       "4   dst    680     Y    823"
      ]
     },
     "execution_count": 6,
     "metadata": {},
     "output_type": "execute_result"
    }
   ],
   "source": [
    "dfa"
   ]
  },
  {
   "cell_type": "code",
   "execution_count": 7,
   "id": "795b9d43",
   "metadata": {},
   "outputs": [
    {
     "data": {
      "text/plain": [
       "0    yes\n",
       "1     no\n",
       "2      n\n",
       "3      y\n",
       "4      y\n",
       "Name: col_c, dtype: object"
      ]
     },
     "execution_count": 7,
     "metadata": {},
     "output_type": "execute_result"
    }
   ],
   "source": [
    "dfa['col_c'].replace(\"Y\", \"y\")"
   ]
  },
  {
   "cell_type": "code",
   "execution_count": 15,
   "id": "9b99afac",
   "metadata": {},
   "outputs": [
    {
     "data": {
      "text/plain": [
       "0          ggg\n",
       "1          juk\n",
       "2          fgT\n",
       "3    F[aeiou]s\n",
       "4          dsT\n",
       "Name: col_a, dtype: object"
      ]
     },
     "execution_count": 15,
     "metadata": {},
     "output_type": "execute_result"
    }
   ],
   "source": [
    "dicta = {\"f[aeiou]\":\"F[aeiou]\", \"t\":\"T\"}\n",
    "\n",
    "dfa['col_a'].replace(dicta, regex=True) "
   ]
  },
  {
   "cell_type": "code",
   "execution_count": 20,
   "id": "4da506ad",
   "metadata": {},
   "outputs": [
    {
     "data": {
      "text/plain": [
       "0    y\n",
       "1    n\n",
       "2    n\n",
       "3    y\n",
       "4    y\n",
       "Name: col_c, dtype: object"
      ]
     },
     "execution_count": 20,
     "metadata": {},
     "output_type": "execute_result"
    }
   ],
   "source": [
    "dictb = {\"y\":\"y\", \"Yes\":\"y\", \"YEs\":\"y\", \"YES\":\"y\", \"Y\":\"y\"}\n",
    "\n",
    "dictc = {\"[yY].*\":\"y\", \"[nN].*\":\"n\"}\n",
    "\n",
    "dfa['col_c'].replace(dictc, regex=True) "
   ]
  },
  {
   "cell_type": "code",
   "execution_count": 18,
   "id": "10973482",
   "metadata": {},
   "outputs": [
    {
     "data": {
      "text/html": [
       "<div>\n",
       "<style scoped>\n",
       "    .dataframe tbody tr th:only-of-type {\n",
       "        vertical-align: middle;\n",
       "    }\n",
       "\n",
       "    .dataframe tbody tr th {\n",
       "        vertical-align: top;\n",
       "    }\n",
       "\n",
       "    .dataframe thead th {\n",
       "        text-align: right;\n",
       "    }\n",
       "</style>\n",
       "<table border=\"1\" class=\"dataframe\">\n",
       "  <thead>\n",
       "    <tr style=\"text-align: right;\">\n",
       "      <th></th>\n",
       "      <th>col_a</th>\n",
       "      <th>col_b</th>\n",
       "      <th>col_c</th>\n",
       "      <th>col_d</th>\n",
       "    </tr>\n",
       "  </thead>\n",
       "  <tbody>\n",
       "    <tr>\n",
       "      <th>0</th>\n",
       "      <td>ggg</td>\n",
       "      <td>234</td>\n",
       "      <td>yes</td>\n",
       "      <td>20</td>\n",
       "    </tr>\n",
       "    <tr>\n",
       "      <th>1</th>\n",
       "      <td>juk</td>\n",
       "      <td>402</td>\n",
       "      <td>no</td>\n",
       "      <td>30</td>\n",
       "    </tr>\n",
       "    <tr>\n",
       "      <th>2</th>\n",
       "      <td>fgt</td>\n",
       "      <td>206</td>\n",
       "      <td>n</td>\n",
       "      <td>78</td>\n",
       "    </tr>\n",
       "    <tr>\n",
       "      <th>3</th>\n",
       "      <td>fas</td>\n",
       "      <td>290</td>\n",
       "      <td>y</td>\n",
       "      <td>209</td>\n",
       "    </tr>\n",
       "    <tr>\n",
       "      <th>4</th>\n",
       "      <td>dst</td>\n",
       "      <td>680</td>\n",
       "      <td>Y</td>\n",
       "      <td>823</td>\n",
       "    </tr>\n",
       "  </tbody>\n",
       "</table>\n",
       "</div>"
      ],
      "text/plain": [
       "  col_a  col_b col_c  col_d\n",
       "0   ggg    234   yes     20\n",
       "1   juk    402    no     30\n",
       "2   fgt    206     n     78\n",
       "3   fas    290     y    209\n",
       "4   dst    680     Y    823"
      ]
     },
     "execution_count": 18,
     "metadata": {},
     "output_type": "execute_result"
    }
   ],
   "source": [
    "dfa"
   ]
  },
  {
   "cell_type": "code",
   "execution_count": 21,
   "id": "a3488d8b",
   "metadata": {},
   "outputs": [
    {
     "data": {
      "text/plain": [
       "0     True\n",
       "1    False\n",
       "2    False\n",
       "3     True\n",
       "4     True\n",
       "Name: col_c, dtype: bool"
      ]
     },
     "execution_count": 21,
     "metadata": {},
     "output_type": "execute_result"
    }
   ],
   "source": [
    "dictb = {\"y\":\"y\", \"Yes\":\"y\", \"YEs\":\"y\", \"YES\":\"y\", \"Y\":\"y\"}\n",
    "\n",
    "dictc = {\"[yY].*\":True, \"[nN].*\":False}\n",
    "\n",
    "dfa['col_c'].replace(dictc, regex=True) "
   ]
  },
  {
   "cell_type": "code",
   "execution_count": 22,
   "id": "0c98aeb0",
   "metadata": {},
   "outputs": [],
   "source": [
    "import os"
   ]
  },
  {
   "cell_type": "code",
   "execution_count": 26,
   "id": "664c4b06",
   "metadata": {},
   "outputs": [
    {
     "data": {
      "text/plain": [
       "'C:\\\\Users\\\\Admin\\\\Desktop\\\\tech_data\\\\day_7\\\\pandas'"
      ]
     },
     "execution_count": 26,
     "metadata": {},
     "output_type": "execute_result"
    }
   ],
   "source": [
    "os.getcwd()"
   ]
  },
  {
   "cell_type": "code",
   "execution_count": 31,
   "id": "7d100a66",
   "metadata": {},
   "outputs": [],
   "source": [
    "path = \"C:\\\\Users\\\\Admin\\\\Desktop\\\\tech_data\\\\day6\\\\pandas\\\\code_A.xlsx\""
   ]
  },
  {
   "cell_type": "code",
   "execution_count": 32,
   "id": "05638c3e",
   "metadata": {},
   "outputs": [],
   "source": [
    "pd.read_excel(path).to_csv(\"code_A.csv\")"
   ]
  },
  {
   "cell_type": "code",
   "execution_count": 33,
   "id": "5562eafc",
   "metadata": {},
   "outputs": [
    {
     "data": {
      "text/plain": [
       "['.ipynb_checkpoints',\n",
       " 'annual-enterprise-survey-2020-financial-year-provisional-size-bands-csv.csv',\n",
       " 'code_A.xlsx',\n",
       " 'data.csv',\n",
       " 'no_column_data.csv',\n",
       " 'pandas_1.ipynb',\n",
       " 'pandas_2.ipynb',\n",
       " 'pandas_join.ipynb']"
      ]
     },
     "execution_count": 33,
     "metadata": {},
     "output_type": "execute_result"
    }
   ],
   "source": [
    "path = \"C:\\\\Users\\\\Admin\\\\Desktop\\\\tech_data\\\\day6\\\\pandas\"\n",
    "\n",
    "os.listdir(path)"
   ]
  },
  {
   "cell_type": "code",
   "execution_count": 35,
   "id": "611e3115",
   "metadata": {},
   "outputs": [],
   "source": [
    "path = \"C:\\\\Users\\\\Admin\\\\Desktop\\\\tech_data\\\\day6\\\\pandas\"\n",
    "\n",
    "list_files = os.listdir(path)\n",
    "list_excel = []\n",
    "\n",
    "for filename in list_files:\n",
    "    if filename.endswith(\".xlsx\") | filename.endswith(\".xls\"):\n",
    "        list_excel.append(filename)"
   ]
  },
  {
   "cell_type": "code",
   "execution_count": 41,
   "id": "3d01f299",
   "metadata": {},
   "outputs": [
    {
     "data": {
      "text/plain": [
       "'hellohi'"
      ]
     },
     "execution_count": 41,
     "metadata": {},
     "output_type": "execute_result"
    }
   ],
   "source": [
    "\"hello\"+\"hi\""
   ]
  },
  {
   "cell_type": "code",
   "execution_count": 42,
   "id": "3455be79",
   "metadata": {},
   "outputs": [
    {
     "data": {
      "text/plain": [
       "'C:\\\\Users\\\\Admin\\\\Desktop\\\\tech_data\\\\day6\\\\pandas\\\\code_A.xlsx'"
      ]
     },
     "execution_count": 42,
     "metadata": {},
     "output_type": "execute_result"
    }
   ],
   "source": [
    "path+\"\\\\\"+\"code_A.xlsx\""
   ]
  },
  {
   "cell_type": "code",
   "execution_count": 36,
   "id": "2d4d722f",
   "metadata": {},
   "outputs": [
    {
     "data": {
      "text/plain": [
       "['code_A.xlsx']"
      ]
     },
     "execution_count": 36,
     "metadata": {},
     "output_type": "execute_result"
    }
   ],
   "source": [
    "list_excel"
   ]
  },
  {
   "cell_type": "code",
   "execution_count": 39,
   "id": "f6f07abb",
   "metadata": {},
   "outputs": [
    {
     "name": "stdout",
     "output_type": "stream",
     "text": [
      "['Sheet1']\n"
     ]
    }
   ],
   "source": [
    "path = \"C:\\\\Users\\\\Admin\\\\Desktop\\\\tech_data\\\\day6\\\\pandas\"\n",
    "\n",
    "list_files = os.listdir(path)\n",
    "list_excel = []\n",
    "\n",
    "for filename in list_files:\n",
    "    if filename.endswith(\".xlsx\") | filename.endswith(\".xls\"):\n",
    "        list_excel.append(filename)\n",
    "\n",
    "if len(list_excel) == 0:\n",
    "    print(\"sorry no excel file found in the path given by you\")\n",
    "elif len(list_excel) == 1:\n",
    "    namea = pd.ExcelFile(path+\"\\\\\"+list_excel[0])\n",
    "    print(namea.sheet_names)"
   ]
  },
  {
   "cell_type": "code",
   "execution_count": 44,
   "id": "06784bb7",
   "metadata": {},
   "outputs": [],
   "source": [
    "path = \"C:\\\\Users\\\\Admin\\\\Desktop\\\\tech_data\\\\day6\\\\pandas\"\n",
    "\n",
    "list_files = os.listdir(path)\n",
    "list_excel = []\n",
    "\n",
    "for filename in list_files:\n",
    "    if filename.endswith(\".xlsx\") | filename.endswith(\".xls\"):\n",
    "        list_excel.append(filename)\n",
    "\n",
    "if len(list_excel) == 0:\n",
    "    print(\"sorry no excel file found in the path given by you\")\n",
    "elif len(list_excel) == 1:\n",
    "    excel_obj = pd.ExcelFile(path+\"\\\\\"+list_excel[0])\n",
    "    #excel_obj.sheet_names\n",
    "    dfa = pd.read_excel(path+\"\\\\\"+list_excel[0], excel_obj.sheet_names[0])"
   ]
  },
  {
   "cell_type": "code",
   "execution_count": 45,
   "id": "754e7286",
   "metadata": {},
   "outputs": [
    {
     "data": {
      "text/html": [
       "<div>\n",
       "<style scoped>\n",
       "    .dataframe tbody tr th:only-of-type {\n",
       "        vertical-align: middle;\n",
       "    }\n",
       "\n",
       "    .dataframe tbody tr th {\n",
       "        vertical-align: top;\n",
       "    }\n",
       "\n",
       "    .dataframe thead th {\n",
       "        text-align: right;\n",
       "    }\n",
       "</style>\n",
       "<table border=\"1\" class=\"dataframe\">\n",
       "  <thead>\n",
       "    <tr style=\"text-align: right;\">\n",
       "      <th></th>\n",
       "      <th>year</th>\n",
       "      <th>industry_code_ANZSIC</th>\n",
       "      <th>industry_name_ANZSIC</th>\n",
       "      <th>rme_size_grp</th>\n",
       "      <th>variable</th>\n",
       "      <th>value</th>\n",
       "      <th>unit</th>\n",
       "    </tr>\n",
       "  </thead>\n",
       "  <tbody>\n",
       "    <tr>\n",
       "      <th>0</th>\n",
       "      <td>2011</td>\n",
       "      <td>A</td>\n",
       "      <td>Agriculture, Forestry and Fishing</td>\n",
       "      <td>a_0</td>\n",
       "      <td>Activity unit</td>\n",
       "      <td>46134</td>\n",
       "      <td>COUNT</td>\n",
       "    </tr>\n",
       "    <tr>\n",
       "      <th>1</th>\n",
       "      <td>2011</td>\n",
       "      <td>A</td>\n",
       "      <td>Agriculture, Forestry and Fishing</td>\n",
       "      <td>a_0</td>\n",
       "      <td>Rolling mean employees</td>\n",
       "      <td>0</td>\n",
       "      <td>COUNT</td>\n",
       "    </tr>\n",
       "    <tr>\n",
       "      <th>2</th>\n",
       "      <td>2011</td>\n",
       "      <td>A</td>\n",
       "      <td>Agriculture, Forestry and Fishing</td>\n",
       "      <td>a_0</td>\n",
       "      <td>Salaries and wages paid</td>\n",
       "      <td>279</td>\n",
       "      <td>DOLLARS(millions)</td>\n",
       "    </tr>\n",
       "    <tr>\n",
       "      <th>3</th>\n",
       "      <td>2011</td>\n",
       "      <td>A</td>\n",
       "      <td>Agriculture, Forestry and Fishing</td>\n",
       "      <td>a_0</td>\n",
       "      <td>Sales, government funding, grants and subsidies</td>\n",
       "      <td>8187</td>\n",
       "      <td>DOLLARS(millions)</td>\n",
       "    </tr>\n",
       "    <tr>\n",
       "      <th>4</th>\n",
       "      <td>2011</td>\n",
       "      <td>A</td>\n",
       "      <td>Agriculture, Forestry and Fishing</td>\n",
       "      <td>a_0</td>\n",
       "      <td>Total income</td>\n",
       "      <td>8866</td>\n",
       "      <td>DOLLARS(millions)</td>\n",
       "    </tr>\n",
       "    <tr>\n",
       "      <th>...</th>\n",
       "      <td>...</td>\n",
       "      <td>...</td>\n",
       "      <td>...</td>\n",
       "      <td>...</td>\n",
       "      <td>...</td>\n",
       "      <td>...</td>\n",
       "      <td>...</td>\n",
       "    </tr>\n",
       "    <tr>\n",
       "      <th>805</th>\n",
       "      <td>2020</td>\n",
       "      <td>A</td>\n",
       "      <td>Agriculture, Forestry and Fishing</td>\n",
       "      <td>i_Industry_Total</td>\n",
       "      <td>Total income</td>\n",
       "      <td>47266</td>\n",
       "      <td>DOLLARS(millions)</td>\n",
       "    </tr>\n",
       "    <tr>\n",
       "      <th>806</th>\n",
       "      <td>2020</td>\n",
       "      <td>A</td>\n",
       "      <td>Agriculture, Forestry and Fishing</td>\n",
       "      <td>i_Industry_Total</td>\n",
       "      <td>Total expenditure</td>\n",
       "      <td>39965</td>\n",
       "      <td>DOLLARS(millions)</td>\n",
       "    </tr>\n",
       "    <tr>\n",
       "      <th>807</th>\n",
       "      <td>2020</td>\n",
       "      <td>A</td>\n",
       "      <td>Agriculture, Forestry and Fishing</td>\n",
       "      <td>i_Industry_Total</td>\n",
       "      <td>Operating profit before tax</td>\n",
       "      <td>5314</td>\n",
       "      <td>DOLLARS(millions)</td>\n",
       "    </tr>\n",
       "    <tr>\n",
       "      <th>808</th>\n",
       "      <td>2020</td>\n",
       "      <td>A</td>\n",
       "      <td>Agriculture, Forestry and Fishing</td>\n",
       "      <td>i_Industry_Total</td>\n",
       "      <td>Total assets</td>\n",
       "      <td>186120</td>\n",
       "      <td>DOLLARS(millions)</td>\n",
       "    </tr>\n",
       "    <tr>\n",
       "      <th>809</th>\n",
       "      <td>2020</td>\n",
       "      <td>A</td>\n",
       "      <td>Agriculture, Forestry and Fishing</td>\n",
       "      <td>i_Industry_Total</td>\n",
       "      <td>Fixed tangible assets</td>\n",
       "      <td>107169</td>\n",
       "      <td>DOLLARS(millions)</td>\n",
       "    </tr>\n",
       "  </tbody>\n",
       "</table>\n",
       "<p>810 rows × 7 columns</p>\n",
       "</div>"
      ],
      "text/plain": [
       "     year industry_code_ANZSIC               industry_name_ANZSIC  \\\n",
       "0    2011                    A  Agriculture, Forestry and Fishing   \n",
       "1    2011                    A  Agriculture, Forestry and Fishing   \n",
       "2    2011                    A  Agriculture, Forestry and Fishing   \n",
       "3    2011                    A  Agriculture, Forestry and Fishing   \n",
       "4    2011                    A  Agriculture, Forestry and Fishing   \n",
       "..    ...                  ...                                ...   \n",
       "805  2020                    A  Agriculture, Forestry and Fishing   \n",
       "806  2020                    A  Agriculture, Forestry and Fishing   \n",
       "807  2020                    A  Agriculture, Forestry and Fishing   \n",
       "808  2020                    A  Agriculture, Forestry and Fishing   \n",
       "809  2020                    A  Agriculture, Forestry and Fishing   \n",
       "\n",
       "         rme_size_grp                                         variable  \\\n",
       "0                 a_0                                    Activity unit   \n",
       "1                 a_0                           Rolling mean employees   \n",
       "2                 a_0                          Salaries and wages paid   \n",
       "3                 a_0  Sales, government funding, grants and subsidies   \n",
       "4                 a_0                                     Total income   \n",
       "..                ...                                              ...   \n",
       "805  i_Industry_Total                                     Total income   \n",
       "806  i_Industry_Total                                Total expenditure   \n",
       "807  i_Industry_Total                      Operating profit before tax   \n",
       "808  i_Industry_Total                                     Total assets   \n",
       "809  i_Industry_Total                            Fixed tangible assets   \n",
       "\n",
       "      value               unit  \n",
       "0     46134              COUNT  \n",
       "1         0              COUNT  \n",
       "2       279  DOLLARS(millions)  \n",
       "3      8187  DOLLARS(millions)  \n",
       "4      8866  DOLLARS(millions)  \n",
       "..      ...                ...  \n",
       "805   47266  DOLLARS(millions)  \n",
       "806   39965  DOLLARS(millions)  \n",
       "807    5314  DOLLARS(millions)  \n",
       "808  186120  DOLLARS(millions)  \n",
       "809  107169  DOLLARS(millions)  \n",
       "\n",
       "[810 rows x 7 columns]"
      ]
     },
     "execution_count": 45,
     "metadata": {},
     "output_type": "execute_result"
    }
   ],
   "source": [
    "dfa"
   ]
  },
  {
   "cell_type": "code",
   "execution_count": 46,
   "id": "51d52d21",
   "metadata": {},
   "outputs": [],
   "source": [
    "path = \"C:\\\\Users\\\\Admin\\\\Desktop\\\\tech_data\\\\day6\\\\pandas\"\n",
    "\n",
    "list_files = os.listdir(path)\n",
    "list_excel = []\n",
    "\n",
    "for filename in list_files:\n",
    "    if filename.endswith(\".xlsx\") | filename.endswith(\".xls\"):\n",
    "        list_excel.append(path+\"\\\\\"+filename)"
   ]
  },
  {
   "cell_type": "code",
   "execution_count": 47,
   "id": "c1cd3fb7",
   "metadata": {},
   "outputs": [
    {
     "data": {
      "text/plain": [
       "['C:\\\\Users\\\\Admin\\\\Desktop\\\\tech_data\\\\day6\\\\pandas\\\\code_A.xlsx']"
      ]
     },
     "execution_count": 47,
     "metadata": {},
     "output_type": "execute_result"
    }
   ],
   "source": [
    "list_excel"
   ]
  },
  {
   "cell_type": "code",
   "execution_count": 57,
   "id": "86d911fe",
   "metadata": {},
   "outputs": [],
   "source": [
    "path = \"C:\\\\Users\\\\Admin\\\\Desktop\\\\tech_data\\\\day6\\\\pandas\"\n",
    "\n",
    "list_files = os.listdir(path)\n",
    "list_excel = []\n",
    "\n",
    "for filename in list_files:\n",
    "    if filename.endswith(\".xlsx\") | filename.endswith(\".xls\"):\n",
    "        list_excel.append(path+\"\\\\\"+filename)\n",
    "\n",
    "if len(list_excel) == 0:\n",
    "    print(\"sorry no excel file found in the path given by you\")\n",
    "elif len(list_excel) == 1:\n",
    "    excel_obj = pd.ExcelFile(list_excel[0])\n",
    "    if len(excel_obj.sheet_names) == 1:\n",
    "        dfa = pd.read_excel(list_excel[0], sheet_name=excel_obj.sheet_names[0])\n",
    "        dfa.to_csv(list_excel[0].replace(\"xlsx\", \"csv\"))\n",
    "else:\n",
    "    for name in list_excel:\n",
    "        excel_obj = pd.ExcelFile(name)\n",
    "        if len(excel_obj.sheet_names) == 1:\n",
    "            dfa = pd.read_excel(name, sheet_name=excel_obj.sheet_names[0])\n",
    "            dfa.to_csv(name.replace(\"xlsx\", \"csv\"))"
   ]
  },
  {
   "cell_type": "code",
   "execution_count": 58,
   "id": "b426f947",
   "metadata": {},
   "outputs": [
    {
     "data": {
      "text/plain": [
       "['C:\\\\Users\\\\Admin\\\\Desktop\\\\tech_data\\\\day6\\\\pandas\\\\code_A.xlsx',\n",
       " 'C:\\\\Users\\\\Admin\\\\Desktop\\\\tech_data\\\\day6\\\\pandas\\\\code_B.xlsx']"
      ]
     },
     "execution_count": 58,
     "metadata": {},
     "output_type": "execute_result"
    }
   ],
   "source": [
    "list_excel"
   ]
  },
  {
   "cell_type": "code",
   "execution_count": null,
   "id": "1c4a861d",
   "metadata": {},
   "outputs": [],
   "source": [
    "path = \"C:\\\\Users\\\\Admin\\\\Desktop\\\\tech_data\\\\day6\\\\pandas\"\n",
    "\n",
    "list_files = os.listdir(path)\n",
    "list_excel = []\n",
    "\n",
    "for filename in list_files:\n",
    "    if filename.endswith(\".xlsx\") | filename.endswith(\".xls\"):\n",
    "        list_excel.append(path+\"\\\\\"+filename)\n",
    "\n",
    "if len(list_excel) == 0:\n",
    "    print(\"sorry no excel file found in the path given by you\")\n",
    "else:\n",
    "    for name in list_excel:\n",
    "        excel_obj = pd.ExcelFile(name)\n",
    "        if len(excel_obj.sheet_names) == 1:\n",
    "            dfa = pd.read_excel(name, sheet_name=excel_obj.sheet_names[0])\n",
    "            dfa.to_csv(name.replace(\"xlsx\", \"csv\"))\n",
    "        else:\n",
    "            for sn in excel_obj.sheet_names:\n",
    "                dfa = pd.read_excel(name, sheet_name=sn)\n",
    "                dfa.to_csv(name+\"_\"+sn.replace(\"xlsx\", \"csv\"))"
   ]
  },
  {
   "cell_type": "code",
   "execution_count": null,
   "id": "38862a58",
   "metadata": {},
   "outputs": [],
   "source": [
    "path = \"C:\\\\Users\\\\Admin\\\\Desktop\\\\tech_data\\\\day6\\\\pandas\"\n",
    "\n",
    "list_files = os.listdir(path)\n",
    "list_excel = []\n",
    "\n",
    "for filename in list_files:\n",
    "    if filename.endswith(\".xlsx\") | filename.endswith(\".xls\"):\n",
    "        list_excel.append(path+\"\\\\\"+filename)\n",
    "\n",
    "if len(list_excel) == 0:\n",
    "    print(\"sorry no excel file found in the path given by you\")\n",
    "else:\n",
    "    for name in list_excel:\n",
    "        excel_obj = pd.ExcelFile(name)\n",
    "        for sn in excel_obj.sheet_names:\n",
    "            dfa = pd.read_excel(name, sheet_name=sn)\n",
    "            dfa.to_csv(name+\"_\"+sn.replace(\"xlsx\", \"csv\"))"
   ]
  },
  {
   "cell_type": "code",
   "execution_count": 59,
   "id": "fe062654",
   "metadata": {},
   "outputs": [
    {
     "data": {
      "text/plain": [
       "['.ipynb_checkpoints',\n",
       " 'assignments',\n",
       " 'code_files',\n",
       " 'day1',\n",
       " 'day2',\n",
       " 'day3',\n",
       " 'day4',\n",
       " 'day5',\n",
       " 'day6',\n",
       " 'day_7',\n",
       " 'other_data',\n",
       " 'zipped folders']"
      ]
     },
     "execution_count": 59,
     "metadata": {},
     "output_type": "execute_result"
    }
   ],
   "source": [
    "path = \"C:\\\\Users\\\\Admin\\\\Desktop\\\\tech_data\"\n",
    "    \n",
    "os.listdir(path)"
   ]
  },
  {
   "cell_type": "code",
   "execution_count": null,
   "id": "89386728",
   "metadata": {},
   "outputs": [],
   "source": []
  }
 ],
 "metadata": {
  "kernelspec": {
   "display_name": "Python 3 (ipykernel)",
   "language": "python",
   "name": "python3"
  },
  "language_info": {
   "codemirror_mode": {
    "name": "ipython",
    "version": 3
   },
   "file_extension": ".py",
   "mimetype": "text/x-python",
   "name": "python",
   "nbconvert_exporter": "python",
   "pygments_lexer": "ipython3",
   "version": "3.9.7"
  }
 },
 "nbformat": 4,
 "nbformat_minor": 5
}

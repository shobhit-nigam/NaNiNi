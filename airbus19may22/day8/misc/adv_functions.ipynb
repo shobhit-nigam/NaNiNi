{
 "cells": [
  {
   "cell_type": "code",
   "execution_count": 1,
   "id": "0c45e978",
   "metadata": {},
   "outputs": [],
   "source": [
    "lista = [4, 6, 8, 10, 11]"
   ]
  },
  {
   "cell_type": "code",
   "execution_count": 2,
   "id": "fd9d4d22",
   "metadata": {},
   "outputs": [],
   "source": [
    "def funca(la):\n",
    "    return la**2"
   ]
  },
  {
   "cell_type": "code",
   "execution_count": 3,
   "id": "151de2fd",
   "metadata": {},
   "outputs": [],
   "source": [
    "listb = []"
   ]
  },
  {
   "cell_type": "code",
   "execution_count": 4,
   "id": "066cbd03",
   "metadata": {},
   "outputs": [
    {
     "name": "stdout",
     "output_type": "stream",
     "text": [
      "16\n",
      "36\n",
      "64\n",
      "100\n",
      "121\n"
     ]
    }
   ],
   "source": [
    "for val in lista:\n",
    "    print(funca(val))"
   ]
  },
  {
   "cell_type": "code",
   "execution_count": 5,
   "id": "25bd1a7b",
   "metadata": {},
   "outputs": [],
   "source": [
    "for val in lista:\n",
    "    listb.append(funca(val))"
   ]
  },
  {
   "cell_type": "code",
   "execution_count": 6,
   "id": "c2411660",
   "metadata": {},
   "outputs": [
    {
     "data": {
      "text/plain": [
       "[16, 36, 64, 100, 121]"
      ]
     },
     "execution_count": 6,
     "metadata": {},
     "output_type": "execute_result"
    }
   ],
   "source": [
    "listb"
   ]
  },
  {
   "cell_type": "code",
   "execution_count": 7,
   "id": "8584bd68",
   "metadata": {},
   "outputs": [],
   "source": [
    "import numpy as np"
   ]
  },
  {
   "cell_type": "code",
   "execution_count": 9,
   "id": "a4ccbc0a",
   "metadata": {},
   "outputs": [
    {
     "data": {
      "text/plain": [
       "array([ 16,  36,  64, 100, 121], dtype=int32)"
      ]
     },
     "execution_count": 9,
     "metadata": {},
     "output_type": "execute_result"
    }
   ],
   "source": [
    "np.array(lista)**2"
   ]
  },
  {
   "cell_type": "code",
   "execution_count": 10,
   "id": "35656b2c",
   "metadata": {},
   "outputs": [],
   "source": [
    "listc = list(np.array(lista)**2)"
   ]
  },
  {
   "cell_type": "code",
   "execution_count": 11,
   "id": "f64fa454",
   "metadata": {},
   "outputs": [
    {
     "data": {
      "text/plain": [
       "[16, 36, 64, 100, 121]"
      ]
     },
     "execution_count": 11,
     "metadata": {},
     "output_type": "execute_result"
    }
   ],
   "source": [
    "listc"
   ]
  },
  {
   "cell_type": "code",
   "execution_count": 12,
   "id": "6aac41c4",
   "metadata": {},
   "outputs": [
    {
     "data": {
      "text/plain": [
       "[16, 36, 64, 100, 121]"
      ]
     },
     "execution_count": 12,
     "metadata": {},
     "output_type": "execute_result"
    }
   ],
   "source": [
    "listb"
   ]
  },
  {
   "cell_type": "code",
   "execution_count": 13,
   "id": "fa458cbb",
   "metadata": {},
   "outputs": [],
   "source": [
    "listx = [7, 13, 2, 8, 11]"
   ]
  },
  {
   "cell_type": "code",
   "execution_count": 14,
   "id": "e6330527",
   "metadata": {},
   "outputs": [
    {
     "data": {
      "text/plain": [
       "[4, 6, 8, 10, 11]"
      ]
     },
     "execution_count": 14,
     "metadata": {},
     "output_type": "execute_result"
    }
   ],
   "source": [
    "lista"
   ]
  },
  {
   "cell_type": "code",
   "execution_count": 15,
   "id": "03eb8692",
   "metadata": {},
   "outputs": [
    {
     "data": {
      "text/plain": [
       "[7, 13, 2, 8, 11]"
      ]
     },
     "execution_count": 15,
     "metadata": {},
     "output_type": "execute_result"
    }
   ],
   "source": [
    "listx"
   ]
  },
  {
   "cell_type": "code",
   "execution_count": 17,
   "id": "b3ae0af4",
   "metadata": {},
   "outputs": [],
   "source": [
    "def funcc(la, lb):\n",
    "    listy = []\n",
    "    if la >= lb:\n",
    "        listy.append(la)\n",
    "    else:\n",
    "        listy.append(lb)\n",
    "    return listy"
   ]
  },
  {
   "cell_type": "code",
   "execution_count": 20,
   "id": "f8be8c10",
   "metadata": {},
   "outputs": [],
   "source": [
    "final_list = []\n",
    "\n",
    "for i in range(len(lista)):\n",
    "    final_list.append(funcc(lista[i], listx[i]))"
   ]
  },
  {
   "cell_type": "code",
   "execution_count": 18,
   "id": "07333d6b",
   "metadata": {},
   "outputs": [],
   "source": [
    "def funcc(la, lb):\n",
    "    if la >= lb:\n",
    "        return la\n",
    "    else:\n",
    "        return lb"
   ]
  },
  {
   "cell_type": "code",
   "execution_count": 21,
   "id": "873fece1",
   "metadata": {},
   "outputs": [
    {
     "data": {
      "text/plain": [
       "[7, 13, 8, 10, 11]"
      ]
     },
     "execution_count": 21,
     "metadata": {},
     "output_type": "execute_result"
    }
   ],
   "source": [
    "final_list"
   ]
  },
  {
   "cell_type": "code",
   "execution_count": 22,
   "id": "790f5050",
   "metadata": {},
   "outputs": [
    {
     "data": {
      "text/plain": [
       "[4, 6, 8, 10, 11]"
      ]
     },
     "execution_count": 22,
     "metadata": {},
     "output_type": "execute_result"
    }
   ],
   "source": [
    "lista"
   ]
  },
  {
   "cell_type": "code",
   "execution_count": 23,
   "id": "d2cc1a66",
   "metadata": {
    "scrolled": true
   },
   "outputs": [
    {
     "data": {
      "text/plain": [
       "[7, 13, 2, 8, 11]"
      ]
     },
     "execution_count": 23,
     "metadata": {},
     "output_type": "execute_result"
    }
   ],
   "source": [
    "listx"
   ]
  },
  {
   "cell_type": "code",
   "execution_count": 24,
   "id": "70b3e549",
   "metadata": {},
   "outputs": [],
   "source": [
    "lista = [4, 6, 8, 10, 11, 12, 6, 7]"
   ]
  },
  {
   "cell_type": "code",
   "execution_count": 28,
   "id": "05d5ea18",
   "metadata": {},
   "outputs": [],
   "source": [
    "final_list = []\n",
    "if len(lista) >= len(listx):\n",
    "    for i in range(len(listx)):\n",
    "        final_list.append(funcc(lista[i], listx[i]))\n",
    "else:\n",
    "    for i in range(len(lista)):\n",
    "        final_list.append(funcc(lista[i], listx[i]))    "
   ]
  },
  {
   "cell_type": "code",
   "execution_count": 29,
   "id": "4631259b",
   "metadata": {},
   "outputs": [
    {
     "data": {
      "text/plain": [
       "[7, 13, 8, 10, 11]"
      ]
     },
     "execution_count": 29,
     "metadata": {},
     "output_type": "execute_result"
    }
   ],
   "source": [
    "final_list"
   ]
  },
  {
   "cell_type": "code",
   "execution_count": 30,
   "id": "97b6af04",
   "metadata": {},
   "outputs": [],
   "source": [
    "def funcc(la, lb):\n",
    "    if la >= lb:\n",
    "        return la\n",
    "    else:\n",
    "        return lb"
   ]
  },
  {
   "cell_type": "code",
   "execution_count": 31,
   "id": "7f401455",
   "metadata": {},
   "outputs": [],
   "source": [
    "final_list = list(map(funcc, lista, listx))"
   ]
  },
  {
   "cell_type": "code",
   "execution_count": 32,
   "id": "858ba70c",
   "metadata": {},
   "outputs": [
    {
     "data": {
      "text/plain": [
       "[7, 13, 8, 10, 11]"
      ]
     },
     "execution_count": 32,
     "metadata": {},
     "output_type": "execute_result"
    }
   ],
   "source": [
    "final_list"
   ]
  },
  {
   "cell_type": "code",
   "execution_count": 36,
   "id": "43f0e2bc",
   "metadata": {},
   "outputs": [
    {
     "data": {
      "text/plain": [
       "[16, 36, 64, 100, 121, 144, 36, 49]"
      ]
     },
     "execution_count": 36,
     "metadata": {},
     "output_type": "execute_result"
    }
   ],
   "source": [
    "list(map(funca, lista))"
   ]
  },
  {
   "cell_type": "code",
   "execution_count": 33,
   "id": "3130dcd4",
   "metadata": {},
   "outputs": [],
   "source": [
    "data = list(\"airbus india bengaluru\")"
   ]
  },
  {
   "cell_type": "code",
   "execution_count": 34,
   "id": "26dcdb70",
   "metadata": {},
   "outputs": [
    {
     "data": {
      "text/plain": [
       "['a',\n",
       " 'i',\n",
       " 'r',\n",
       " 'b',\n",
       " 'u',\n",
       " 's',\n",
       " ' ',\n",
       " 'i',\n",
       " 'n',\n",
       " 'd',\n",
       " 'i',\n",
       " 'a',\n",
       " ' ',\n",
       " 'b',\n",
       " 'e',\n",
       " 'n',\n",
       " 'g',\n",
       " 'a',\n",
       " 'l',\n",
       " 'u',\n",
       " 'r',\n",
       " 'u']"
      ]
     },
     "execution_count": 34,
     "metadata": {},
     "output_type": "execute_result"
    }
   ],
   "source": [
    "data"
   ]
  },
  {
   "cell_type": "code",
   "execution_count": 39,
   "id": "bdd35995",
   "metadata": {},
   "outputs": [],
   "source": [
    "def funcd(ca):\n",
    "    if ca in ['a', 'e', 'i', 'o', 'u']:\n",
    "        return True\n",
    "    else:\n",
    "        return False"
   ]
  },
  {
   "cell_type": "code",
   "execution_count": 42,
   "id": "b45b68a3",
   "metadata": {},
   "outputs": [],
   "source": [
    "final_list = list(filter(funcd, data)) "
   ]
  },
  {
   "cell_type": "code",
   "execution_count": 43,
   "id": "c829c268",
   "metadata": {},
   "outputs": [
    {
     "data": {
      "text/plain": [
       "['a', 'i', 'u', 'i', 'i', 'a', 'e', 'a', 'u', 'u']"
      ]
     },
     "execution_count": 43,
     "metadata": {},
     "output_type": "execute_result"
    }
   ],
   "source": [
    "final_list"
   ]
  },
  {
   "cell_type": "code",
   "execution_count": 44,
   "id": "191c9cc5",
   "metadata": {},
   "outputs": [
    {
     "name": "stdout",
     "output_type": "stream",
     "text": [
      "['a', 'i', 'r', 'b', 'u', 's', ' ', 'i', 'n', 'd', 'i', 'a', ' ', 'b', 'e', 'n', 'g', 'a', 'l', 'u', 'r', 'u']\n"
     ]
    }
   ],
   "source": [
    "print(data)"
   ]
  },
  {
   "cell_type": "code",
   "execution_count": 45,
   "id": "f64511d2",
   "metadata": {},
   "outputs": [
    {
     "data": {
      "text/plain": [
       "[4, 6, 8, 10, 11, 12, 6, 7]"
      ]
     },
     "execution_count": 45,
     "metadata": {},
     "output_type": "execute_result"
    }
   ],
   "source": [
    "lista"
   ]
  },
  {
   "cell_type": "code",
   "execution_count": 46,
   "id": "27338d76",
   "metadata": {},
   "outputs": [],
   "source": [
    "def funce(la):\n",
    "    if la%3 == 0:\n",
    "        return False\n",
    "    else:\n",
    "        return True"
   ]
  },
  {
   "cell_type": "code",
   "execution_count": 47,
   "id": "5b25d435",
   "metadata": {},
   "outputs": [
    {
     "data": {
      "text/plain": [
       "[4, 8, 10, 11, 7]"
      ]
     },
     "execution_count": 47,
     "metadata": {},
     "output_type": "execute_result"
    }
   ],
   "source": [
    "list(filter(funce, lista))"
   ]
  },
  {
   "cell_type": "code",
   "execution_count": 48,
   "id": "3b30571d",
   "metadata": {},
   "outputs": [
    {
     "data": {
      "text/plain": [
       "False"
      ]
     },
     "execution_count": 48,
     "metadata": {},
     "output_type": "execute_result"
    }
   ],
   "source": [
    "12 < 3 "
   ]
  },
  {
   "cell_type": "code",
   "execution_count": 49,
   "id": "9bc5ddbc",
   "metadata": {},
   "outputs": [],
   "source": [
    "def funce(la):\n",
    "    return la%3 != 0"
   ]
  },
  {
   "cell_type": "code",
   "execution_count": 50,
   "id": "b2fe8724",
   "metadata": {},
   "outputs": [
    {
     "data": {
      "text/plain": [
       "[4, 8, 10, 11, 7]"
      ]
     },
     "execution_count": 50,
     "metadata": {},
     "output_type": "execute_result"
    }
   ],
   "source": [
    "list(filter(funce, lista))"
   ]
  },
  {
   "cell_type": "code",
   "execution_count": 51,
   "id": "64160732",
   "metadata": {},
   "outputs": [],
   "source": [
    "def funcd(ca):\n",
    "    return ca in ['a', 'e', 'i', 'o', 'u']"
   ]
  },
  {
   "cell_type": "code",
   "execution_count": 52,
   "id": "0a500847",
   "metadata": {},
   "outputs": [],
   "source": [
    "final_list = list(filter(funcd, \"hello world\")) "
   ]
  },
  {
   "cell_type": "code",
   "execution_count": 53,
   "id": "1c55e689",
   "metadata": {},
   "outputs": [
    {
     "data": {
      "text/plain": [
       "['e', 'o', 'o']"
      ]
     },
     "execution_count": 53,
     "metadata": {},
     "output_type": "execute_result"
    }
   ],
   "source": [
    "final_list"
   ]
  },
  {
   "cell_type": "code",
   "execution_count": 54,
   "id": "5a966fd2",
   "metadata": {},
   "outputs": [
    {
     "data": {
      "text/plain": [
       "True"
      ]
     },
     "execution_count": 54,
     "metadata": {},
     "output_type": "execute_result"
    }
   ],
   "source": [
    "funce(13)"
   ]
  },
  {
   "cell_type": "code",
   "execution_count": 55,
   "id": "0f6b0a45",
   "metadata": {},
   "outputs": [],
   "source": [
    "# anonymous functions \n",
    "# lambda"
   ]
  },
  {
   "cell_type": "code",
   "execution_count": 56,
   "id": "f63c3d81",
   "metadata": {},
   "outputs": [
    {
     "data": {
      "text/plain": [
       "[4, 6, 8, 10, 11, 12, 6, 7]"
      ]
     },
     "execution_count": 56,
     "metadata": {},
     "output_type": "execute_result"
    }
   ],
   "source": [
    "lista"
   ]
  },
  {
   "cell_type": "code",
   "execution_count": 57,
   "id": "5972c6f3",
   "metadata": {},
   "outputs": [
    {
     "data": {
      "text/plain": [
       "[4, 8, 10, 11, 7]"
      ]
     },
     "execution_count": 57,
     "metadata": {},
     "output_type": "execute_result"
    }
   ],
   "source": [
    "list(filter(funce, lista))"
   ]
  },
  {
   "cell_type": "code",
   "execution_count": null,
   "id": "5622eeb2",
   "metadata": {},
   "outputs": [],
   "source": [
    "def funce(la):\n",
    "    return la%3 != 0"
   ]
  },
  {
   "cell_type": "code",
   "execution_count": 59,
   "id": "814836a0",
   "metadata": {},
   "outputs": [
    {
     "data": {
      "text/plain": [
       "[4, 8, 10, 11, 7]"
      ]
     },
     "execution_count": 59,
     "metadata": {},
     "output_type": "execute_result"
    }
   ],
   "source": [
    "list(filter(lambda x: x%3 != 0 , lista))"
   ]
  },
  {
   "cell_type": "code",
   "execution_count": null,
   "id": "e9c05ad2",
   "metadata": {},
   "outputs": [],
   "source": [
    "def funca(la):\n",
    "    return la**2"
   ]
  },
  {
   "cell_type": "code",
   "execution_count": 60,
   "id": "ba6fb38c",
   "metadata": {},
   "outputs": [
    {
     "data": {
      "text/plain": [
       "[16, 36, 64, 100, 121, 144, 36, 49]"
      ]
     },
     "execution_count": 60,
     "metadata": {},
     "output_type": "execute_result"
    }
   ],
   "source": [
    "list(map(lambda la : la**2 , lista))"
   ]
  },
  {
   "cell_type": "code",
   "execution_count": 61,
   "id": "b98bb7e0",
   "metadata": {},
   "outputs": [
    {
     "data": {
      "text/plain": [
       "[11, 19, 10, 18, 22]"
      ]
     },
     "execution_count": 61,
     "metadata": {},
     "output_type": "execute_result"
    }
   ],
   "source": [
    "list(map(lambda la, lb: la+lb , lista, listx))"
   ]
  },
  {
   "cell_type": "code",
   "execution_count": 62,
   "id": "9f83740b",
   "metadata": {},
   "outputs": [
    {
     "data": {
      "text/plain": [
       "[7, 13, 8, 10, 11]"
      ]
     },
     "execution_count": 62,
     "metadata": {},
     "output_type": "execute_result"
    }
   ],
   "source": [
    "list(map(lambda la, lb: la if la>= lb else lb, lista, listx))"
   ]
  },
  {
   "cell_type": "code",
   "execution_count": null,
   "id": "92353f15",
   "metadata": {},
   "outputs": [],
   "source": [
    "def funcc(la, lb):\n",
    "    if la >= lb:\n",
    "        return la\n",
    "    else:\n",
    "        return lb"
   ]
  },
  {
   "cell_type": "code",
   "execution_count": 64,
   "id": "0a4df3f2",
   "metadata": {},
   "outputs": [
    {
     "data": {
      "text/plain": [
       "[10, 11, 12]"
      ]
     },
     "execution_count": 64,
     "metadata": {},
     "output_type": "execute_result"
    }
   ],
   "source": [
    "list(filter(lambda la : la>= 10, lista))"
   ]
  },
  {
   "cell_type": "code",
   "execution_count": 66,
   "id": "ab0ec5cb",
   "metadata": {},
   "outputs": [
    {
     "data": {
      "text/plain": [
       "[8, 13, 11, 12]"
      ]
     },
     "execution_count": 66,
     "metadata": {},
     "output_type": "execute_result"
    }
   ],
   "source": [
    "map(lambda la, lb: la if la>= lb else lb, lista, listx)\n",
    "\n",
    "list(map(lambda la, lb: la if la>= lb else lb, (filter(lambda la : la>= 8, lista)), listx))"
   ]
  },
  {
   "cell_type": "code",
   "execution_count": 67,
   "id": "127b3fa3",
   "metadata": {},
   "outputs": [
    {
     "name": "stdout",
     "output_type": "stream",
     "text": [
      "['a', 'i', 'r', 'b', 'u', 's', ' ', 'i', 'n', 'd', 'i', 'a', ' ', 'b', 'e', 'n', 'g', 'a', 'l', 'u', 'r', 'u']\n"
     ]
    }
   ],
   "source": [
    "print(data)"
   ]
  },
  {
   "cell_type": "code",
   "execution_count": 69,
   "id": "875c6d20",
   "metadata": {},
   "outputs": [
    {
     "ename": "AttributeError",
     "evalue": "module 'pandas' has no attribute 'replace'",
     "output_type": "error",
     "traceback": [
      "\u001b[1;31m---------------------------------------------------------------------------\u001b[0m",
      "\u001b[1;31mAttributeError\u001b[0m                            Traceback (most recent call last)",
      "\u001b[1;32m~\\AppData\\Local\\Temp/ipykernel_5552/2217262066.py\u001b[0m in \u001b[0;36m<module>\u001b[1;34m\u001b[0m\n\u001b[0;32m      1\u001b[0m \u001b[1;32mimport\u001b[0m \u001b[0mpandas\u001b[0m \u001b[1;32mas\u001b[0m \u001b[0mpd\u001b[0m\u001b[1;33m\u001b[0m\u001b[1;33m\u001b[0m\u001b[0m\n\u001b[1;32m----> 2\u001b[1;33m \u001b[0mhelp\u001b[0m\u001b[1;33m(\u001b[0m\u001b[0mpd\u001b[0m\u001b[1;33m.\u001b[0m\u001b[0mreplace\u001b[0m\u001b[1;33m)\u001b[0m\u001b[1;33m\u001b[0m\u001b[1;33m\u001b[0m\u001b[0m\n\u001b[0m",
      "\u001b[1;32m~\\anaconda3\\lib\\site-packages\\pandas\\__init__.py\u001b[0m in \u001b[0;36m__getattr__\u001b[1;34m(name)\u001b[0m\n\u001b[0;32m    242\u001b[0m         \u001b[1;32mreturn\u001b[0m \u001b[0m_SparseArray\u001b[0m\u001b[1;33m\u001b[0m\u001b[1;33m\u001b[0m\u001b[0m\n\u001b[0;32m    243\u001b[0m \u001b[1;33m\u001b[0m\u001b[0m\n\u001b[1;32m--> 244\u001b[1;33m     \u001b[1;32mraise\u001b[0m \u001b[0mAttributeError\u001b[0m\u001b[1;33m(\u001b[0m\u001b[1;34mf\"module 'pandas' has no attribute '{name}'\"\u001b[0m\u001b[1;33m)\u001b[0m\u001b[1;33m\u001b[0m\u001b[1;33m\u001b[0m\u001b[0m\n\u001b[0m\u001b[0;32m    245\u001b[0m \u001b[1;33m\u001b[0m\u001b[0m\n\u001b[0;32m    246\u001b[0m \u001b[1;33m\u001b[0m\u001b[0m\n",
      "\u001b[1;31mAttributeError\u001b[0m: module 'pandas' has no attribute 'replace'"
     ]
    }
   ],
   "source": [
    "import pandas as pd\n",
    "\n",
    "help(pd.replace)"
   ]
  },
  {
   "cell_type": "code",
   "execution_count": null,
   "id": "35720532",
   "metadata": {},
   "outputs": [],
   "source": [
    "r = {'set':1, 'resst':2}\n",
    "df.replace(r) \n",
    "\n",
    "\n",
    "df['col_a'].replace(r)\n",
    "df['col_b'].replace(r)\n",
    "\n",
    "\n",
    "df.replace({'col_a':r, 'col_b', r})"
   ]
  }
 ],
 "metadata": {
  "kernelspec": {
   "display_name": "Python 3 (ipykernel)",
   "language": "python",
   "name": "python3"
  },
  "language_info": {
   "codemirror_mode": {
    "name": "ipython",
    "version": 3
   },
   "file_extension": ".py",
   "mimetype": "text/x-python",
   "name": "python",
   "nbconvert_exporter": "python",
   "pygments_lexer": "ipython3",
   "version": "3.9.7"
  }
 },
 "nbformat": 4,
 "nbformat_minor": 5
}
